{
  "nbformat": 4,
  "nbformat_minor": 0,
  "metadata": {
    "colab": {
      "provenance": [],
      "collapsed_sections": [],
      "include_colab_link": true
    },
    "kernelspec": {
      "name": "python3",
      "display_name": "Python 3"
    },
    "language_info": {
      "name": "python"
    }
  },
  "cells": [
    {
      "cell_type": "markdown",
      "metadata": {
        "id": "view-in-github",
        "colab_type": "text"
      },
      "source": [
        "<a href=\"https://colab.research.google.com/github/gaurav91022/Birds_in_Rage/blob/main/Copy_of_CNN_LSTM_stock_forecasting.ipynb\" target=\"_parent\"><img src=\"https://colab.research.google.com/assets/colab-badge.svg\" alt=\"Open In Colab\"/></a>"
      ]
    },
    {
      "cell_type": "code",
      "execution_count": null,
      "metadata": {
        "id": "9jAC9UsaUvzE"
      },
      "outputs": [],
      "source": [
        "import tensorflow as tf\n",
        "from tensorflow import keras\n",
        "from tensorflow.keras import layers\n",
        "import numpy as np\n",
        "import pandas as pd\n",
        "import matplotlib.pyplot as plt\n",
        "train_ratio=0.8\n",
        "val_train=0.9"
      ]
    },
    {
      "cell_type": "code",
      "source": [
        "#Reading Data\n",
        "data = pd.read_csv('https://raw.githubusercontent.com/Agam9427/Finsearch/main/TTM.csv')\n",
        "data.head()"
      ],
      "metadata": {
        "id": "l-AasMfhU5lj",
        "colab": {
          "base_uri": "https://localhost:8080/",
          "height": 206
        },
        "outputId": "3c142d7c-6c57-4259-9a75-9c01068804d1"
      },
      "execution_count": null,
      "outputs": [
        {
          "output_type": "execute_result",
          "data": {
            "text/plain": [
              "         Date   Open   High    Low  Close  Adj Close  Volume\n",
              "0  2005-07-13  10.62  10.64  10.51  10.60   9.197446  136500\n",
              "1  2005-07-14  10.50  10.50  10.33  10.39   9.015231  136000\n",
              "2  2005-07-15  10.50  10.65  10.50  10.55   9.154059  158700\n",
              "3  2005-07-18  10.72  10.74  10.66  10.72   9.301566   88000\n",
              "4  2005-07-19  10.80  11.03  10.80  10.99   9.535840  128000"
            ],
            "text/html": [
              "\n",
              "  <div id=\"df-9d6c46d9-655e-441c-b2f8-bfde8d3579d5\">\n",
              "    <div class=\"colab-df-container\">\n",
              "      <div>\n",
              "<style scoped>\n",
              "    .dataframe tbody tr th:only-of-type {\n",
              "        vertical-align: middle;\n",
              "    }\n",
              "\n",
              "    .dataframe tbody tr th {\n",
              "        vertical-align: top;\n",
              "    }\n",
              "\n",
              "    .dataframe thead th {\n",
              "        text-align: right;\n",
              "    }\n",
              "</style>\n",
              "<table border=\"1\" class=\"dataframe\">\n",
              "  <thead>\n",
              "    <tr style=\"text-align: right;\">\n",
              "      <th></th>\n",
              "      <th>Date</th>\n",
              "      <th>Open</th>\n",
              "      <th>High</th>\n",
              "      <th>Low</th>\n",
              "      <th>Close</th>\n",
              "      <th>Adj Close</th>\n",
              "      <th>Volume</th>\n",
              "    </tr>\n",
              "  </thead>\n",
              "  <tbody>\n",
              "    <tr>\n",
              "      <th>0</th>\n",
              "      <td>2005-07-13</td>\n",
              "      <td>10.62</td>\n",
              "      <td>10.64</td>\n",
              "      <td>10.51</td>\n",
              "      <td>10.60</td>\n",
              "      <td>9.197446</td>\n",
              "      <td>136500</td>\n",
              "    </tr>\n",
              "    <tr>\n",
              "      <th>1</th>\n",
              "      <td>2005-07-14</td>\n",
              "      <td>10.50</td>\n",
              "      <td>10.50</td>\n",
              "      <td>10.33</td>\n",
              "      <td>10.39</td>\n",
              "      <td>9.015231</td>\n",
              "      <td>136000</td>\n",
              "    </tr>\n",
              "    <tr>\n",
              "      <th>2</th>\n",
              "      <td>2005-07-15</td>\n",
              "      <td>10.50</td>\n",
              "      <td>10.65</td>\n",
              "      <td>10.50</td>\n",
              "      <td>10.55</td>\n",
              "      <td>9.154059</td>\n",
              "      <td>158700</td>\n",
              "    </tr>\n",
              "    <tr>\n",
              "      <th>3</th>\n",
              "      <td>2005-07-18</td>\n",
              "      <td>10.72</td>\n",
              "      <td>10.74</td>\n",
              "      <td>10.66</td>\n",
              "      <td>10.72</td>\n",
              "      <td>9.301566</td>\n",
              "      <td>88000</td>\n",
              "    </tr>\n",
              "    <tr>\n",
              "      <th>4</th>\n",
              "      <td>2005-07-19</td>\n",
              "      <td>10.80</td>\n",
              "      <td>11.03</td>\n",
              "      <td>10.80</td>\n",
              "      <td>10.99</td>\n",
              "      <td>9.535840</td>\n",
              "      <td>128000</td>\n",
              "    </tr>\n",
              "  </tbody>\n",
              "</table>\n",
              "</div>\n",
              "      <button class=\"colab-df-convert\" onclick=\"convertToInteractive('df-9d6c46d9-655e-441c-b2f8-bfde8d3579d5')\"\n",
              "              title=\"Convert this dataframe to an interactive table.\"\n",
              "              style=\"display:none;\">\n",
              "        \n",
              "  <svg xmlns=\"http://www.w3.org/2000/svg\" height=\"24px\"viewBox=\"0 0 24 24\"\n",
              "       width=\"24px\">\n",
              "    <path d=\"M0 0h24v24H0V0z\" fill=\"none\"/>\n",
              "    <path d=\"M18.56 5.44l.94 2.06.94-2.06 2.06-.94-2.06-.94-.94-2.06-.94 2.06-2.06.94zm-11 1L8.5 8.5l.94-2.06 2.06-.94-2.06-.94L8.5 2.5l-.94 2.06-2.06.94zm10 10l.94 2.06.94-2.06 2.06-.94-2.06-.94-.94-2.06-.94 2.06-2.06.94z\"/><path d=\"M17.41 7.96l-1.37-1.37c-.4-.4-.92-.59-1.43-.59-.52 0-1.04.2-1.43.59L10.3 9.45l-7.72 7.72c-.78.78-.78 2.05 0 2.83L4 21.41c.39.39.9.59 1.41.59.51 0 1.02-.2 1.41-.59l7.78-7.78 2.81-2.81c.8-.78.8-2.07 0-2.86zM5.41 20L4 18.59l7.72-7.72 1.47 1.35L5.41 20z\"/>\n",
              "  </svg>\n",
              "      </button>\n",
              "      \n",
              "  <style>\n",
              "    .colab-df-container {\n",
              "      display:flex;\n",
              "      flex-wrap:wrap;\n",
              "      gap: 12px;\n",
              "    }\n",
              "\n",
              "    .colab-df-convert {\n",
              "      background-color: #E8F0FE;\n",
              "      border: none;\n",
              "      border-radius: 50%;\n",
              "      cursor: pointer;\n",
              "      display: none;\n",
              "      fill: #1967D2;\n",
              "      height: 32px;\n",
              "      padding: 0 0 0 0;\n",
              "      width: 32px;\n",
              "    }\n",
              "\n",
              "    .colab-df-convert:hover {\n",
              "      background-color: #E2EBFA;\n",
              "      box-shadow: 0px 1px 2px rgba(60, 64, 67, 0.3), 0px 1px 3px 1px rgba(60, 64, 67, 0.15);\n",
              "      fill: #174EA6;\n",
              "    }\n",
              "\n",
              "    [theme=dark] .colab-df-convert {\n",
              "      background-color: #3B4455;\n",
              "      fill: #D2E3FC;\n",
              "    }\n",
              "\n",
              "    [theme=dark] .colab-df-convert:hover {\n",
              "      background-color: #434B5C;\n",
              "      box-shadow: 0px 1px 3px 1px rgba(0, 0, 0, 0.15);\n",
              "      filter: drop-shadow(0px 1px 2px rgba(0, 0, 0, 0.3));\n",
              "      fill: #FFFFFF;\n",
              "    }\n",
              "  </style>\n",
              "\n",
              "      <script>\n",
              "        const buttonEl =\n",
              "          document.querySelector('#df-9d6c46d9-655e-441c-b2f8-bfde8d3579d5 button.colab-df-convert');\n",
              "        buttonEl.style.display =\n",
              "          google.colab.kernel.accessAllowed ? 'block' : 'none';\n",
              "\n",
              "        async function convertToInteractive(key) {\n",
              "          const element = document.querySelector('#df-9d6c46d9-655e-441c-b2f8-bfde8d3579d5');\n",
              "          const dataTable =\n",
              "            await google.colab.kernel.invokeFunction('convertToInteractive',\n",
              "                                                     [key], {});\n",
              "          if (!dataTable) return;\n",
              "\n",
              "          const docLinkHtml = 'Like what you see? Visit the ' +\n",
              "            '<a target=\"_blank\" href=https://colab.research.google.com/notebooks/data_table.ipynb>data table notebook</a>'\n",
              "            + ' to learn more about interactive tables.';\n",
              "          element.innerHTML = '';\n",
              "          dataTable['output_type'] = 'display_data';\n",
              "          await google.colab.output.renderOutput(dataTable, element);\n",
              "          const docLink = document.createElement('div');\n",
              "          docLink.innerHTML = docLinkHtml;\n",
              "          element.appendChild(docLink);\n",
              "        }\n",
              "      </script>\n",
              "    </div>\n",
              "  </div>\n",
              "  "
            ]
          },
          "metadata": {},
          "execution_count": 60
        }
      ]
    },
    {
      "cell_type": "code",
      "source": [
        "#Data Preprocesing Using Z-score technique\n",
        "mdata=data.drop('Date',axis=1)\n",
        "\n",
        "from scipy.stats import zscore\n",
        "mdata = mdata.apply(zscore)\n",
        "mdata.head()\n",
        "\n"
      ],
      "metadata": {
        "colab": {
          "base_uri": "https://localhost:8080/",
          "height": 206
        },
        "id": "SrhxKEqCSbpW",
        "outputId": "280e6a92-1d2b-4a5a-9ef2-e9a8f24ca71b"
      },
      "execution_count": null,
      "outputs": [
        {
          "output_type": "execute_result",
          "data": {
            "text/plain": [
              "       Open      High       Low     Close  Adj Close    Volume\n",
              "0 -1.141416 -1.154217 -1.134079 -1.143018  -1.198225 -1.426942\n",
              "1 -1.153069 -1.167713 -1.151678 -1.163413  -1.215541 -1.427474\n",
              "2 -1.153069 -1.153253 -1.135056 -1.147874  -1.202348 -1.403317\n",
              "3 -1.131706 -1.144577 -1.119412 -1.131363  -1.188330 -1.478554\n",
              "4 -1.123937 -1.116621 -1.105724 -1.105141  -1.166066 -1.435987"
            ],
            "text/html": [
              "\n",
              "  <div id=\"df-66ba9b08-d2f7-4b75-96ea-7985b34bbd98\">\n",
              "    <div class=\"colab-df-container\">\n",
              "      <div>\n",
              "<style scoped>\n",
              "    .dataframe tbody tr th:only-of-type {\n",
              "        vertical-align: middle;\n",
              "    }\n",
              "\n",
              "    .dataframe tbody tr th {\n",
              "        vertical-align: top;\n",
              "    }\n",
              "\n",
              "    .dataframe thead th {\n",
              "        text-align: right;\n",
              "    }\n",
              "</style>\n",
              "<table border=\"1\" class=\"dataframe\">\n",
              "  <thead>\n",
              "    <tr style=\"text-align: right;\">\n",
              "      <th></th>\n",
              "      <th>Open</th>\n",
              "      <th>High</th>\n",
              "      <th>Low</th>\n",
              "      <th>Close</th>\n",
              "      <th>Adj Close</th>\n",
              "      <th>Volume</th>\n",
              "    </tr>\n",
              "  </thead>\n",
              "  <tbody>\n",
              "    <tr>\n",
              "      <th>0</th>\n",
              "      <td>-1.141416</td>\n",
              "      <td>-1.154217</td>\n",
              "      <td>-1.134079</td>\n",
              "      <td>-1.143018</td>\n",
              "      <td>-1.198225</td>\n",
              "      <td>-1.426942</td>\n",
              "    </tr>\n",
              "    <tr>\n",
              "      <th>1</th>\n",
              "      <td>-1.153069</td>\n",
              "      <td>-1.167713</td>\n",
              "      <td>-1.151678</td>\n",
              "      <td>-1.163413</td>\n",
              "      <td>-1.215541</td>\n",
              "      <td>-1.427474</td>\n",
              "    </tr>\n",
              "    <tr>\n",
              "      <th>2</th>\n",
              "      <td>-1.153069</td>\n",
              "      <td>-1.153253</td>\n",
              "      <td>-1.135056</td>\n",
              "      <td>-1.147874</td>\n",
              "      <td>-1.202348</td>\n",
              "      <td>-1.403317</td>\n",
              "    </tr>\n",
              "    <tr>\n",
              "      <th>3</th>\n",
              "      <td>-1.131706</td>\n",
              "      <td>-1.144577</td>\n",
              "      <td>-1.119412</td>\n",
              "      <td>-1.131363</td>\n",
              "      <td>-1.188330</td>\n",
              "      <td>-1.478554</td>\n",
              "    </tr>\n",
              "    <tr>\n",
              "      <th>4</th>\n",
              "      <td>-1.123937</td>\n",
              "      <td>-1.116621</td>\n",
              "      <td>-1.105724</td>\n",
              "      <td>-1.105141</td>\n",
              "      <td>-1.166066</td>\n",
              "      <td>-1.435987</td>\n",
              "    </tr>\n",
              "  </tbody>\n",
              "</table>\n",
              "</div>\n",
              "      <button class=\"colab-df-convert\" onclick=\"convertToInteractive('df-66ba9b08-d2f7-4b75-96ea-7985b34bbd98')\"\n",
              "              title=\"Convert this dataframe to an interactive table.\"\n",
              "              style=\"display:none;\">\n",
              "        \n",
              "  <svg xmlns=\"http://www.w3.org/2000/svg\" height=\"24px\"viewBox=\"0 0 24 24\"\n",
              "       width=\"24px\">\n",
              "    <path d=\"M0 0h24v24H0V0z\" fill=\"none\"/>\n",
              "    <path d=\"M18.56 5.44l.94 2.06.94-2.06 2.06-.94-2.06-.94-.94-2.06-.94 2.06-2.06.94zm-11 1L8.5 8.5l.94-2.06 2.06-.94-2.06-.94L8.5 2.5l-.94 2.06-2.06.94zm10 10l.94 2.06.94-2.06 2.06-.94-2.06-.94-.94-2.06-.94 2.06-2.06.94z\"/><path d=\"M17.41 7.96l-1.37-1.37c-.4-.4-.92-.59-1.43-.59-.52 0-1.04.2-1.43.59L10.3 9.45l-7.72 7.72c-.78.78-.78 2.05 0 2.83L4 21.41c.39.39.9.59 1.41.59.51 0 1.02-.2 1.41-.59l7.78-7.78 2.81-2.81c.8-.78.8-2.07 0-2.86zM5.41 20L4 18.59l7.72-7.72 1.47 1.35L5.41 20z\"/>\n",
              "  </svg>\n",
              "      </button>\n",
              "      \n",
              "  <style>\n",
              "    .colab-df-container {\n",
              "      display:flex;\n",
              "      flex-wrap:wrap;\n",
              "      gap: 12px;\n",
              "    }\n",
              "\n",
              "    .colab-df-convert {\n",
              "      background-color: #E8F0FE;\n",
              "      border: none;\n",
              "      border-radius: 50%;\n",
              "      cursor: pointer;\n",
              "      display: none;\n",
              "      fill: #1967D2;\n",
              "      height: 32px;\n",
              "      padding: 0 0 0 0;\n",
              "      width: 32px;\n",
              "    }\n",
              "\n",
              "    .colab-df-convert:hover {\n",
              "      background-color: #E2EBFA;\n",
              "      box-shadow: 0px 1px 2px rgba(60, 64, 67, 0.3), 0px 1px 3px 1px rgba(60, 64, 67, 0.15);\n",
              "      fill: #174EA6;\n",
              "    }\n",
              "\n",
              "    [theme=dark] .colab-df-convert {\n",
              "      background-color: #3B4455;\n",
              "      fill: #D2E3FC;\n",
              "    }\n",
              "\n",
              "    [theme=dark] .colab-df-convert:hover {\n",
              "      background-color: #434B5C;\n",
              "      box-shadow: 0px 1px 3px 1px rgba(0, 0, 0, 0.15);\n",
              "      filter: drop-shadow(0px 1px 2px rgba(0, 0, 0, 0.3));\n",
              "      fill: #FFFFFF;\n",
              "    }\n",
              "  </style>\n",
              "\n",
              "      <script>\n",
              "        const buttonEl =\n",
              "          document.querySelector('#df-66ba9b08-d2f7-4b75-96ea-7985b34bbd98 button.colab-df-convert');\n",
              "        buttonEl.style.display =\n",
              "          google.colab.kernel.accessAllowed ? 'block' : 'none';\n",
              "\n",
              "        async function convertToInteractive(key) {\n",
              "          const element = document.querySelector('#df-66ba9b08-d2f7-4b75-96ea-7985b34bbd98');\n",
              "          const dataTable =\n",
              "            await google.colab.kernel.invokeFunction('convertToInteractive',\n",
              "                                                     [key], {});\n",
              "          if (!dataTable) return;\n",
              "\n",
              "          const docLinkHtml = 'Like what you see? Visit the ' +\n",
              "            '<a target=\"_blank\" href=https://colab.research.google.com/notebooks/data_table.ipynb>data table notebook</a>'\n",
              "            + ' to learn more about interactive tables.';\n",
              "          element.innerHTML = '';\n",
              "          dataTable['output_type'] = 'display_data';\n",
              "          await google.colab.output.renderOutput(dataTable, element);\n",
              "          const docLink = document.createElement('div');\n",
              "          docLink.innerHTML = docLinkHtml;\n",
              "          element.appendChild(docLink);\n",
              "        }\n",
              "      </script>\n",
              "    </div>\n",
              "  </div>\n",
              "  "
            ]
          },
          "metadata": {},
          "execution_count": 61
        }
      ]
    },
    {
      "cell_type": "code",
      "source": [
        "#Making matrices of 10*6 shape\n",
        "mdata=np.array(mdata)\n",
        "dataset=[]\n",
        "label=[]\n",
        "for i in range(len(data.index) - 11):\n",
        "  dataset.append(mdata[i:i+10])\n",
        "  label.append(mdata[i+11][4])\n",
        "label = np.array(label)\n",
        "dataset = np.array(dataset)\n"
      ],
      "metadata": {
        "id": "q9W9JriPSb1z"
      },
      "execution_count": null,
      "outputs": []
    },
    {
      "cell_type": "code",
      "source": [
        "dataset[0]"
      ],
      "metadata": {
        "colab": {
          "base_uri": "https://localhost:8080/"
        },
        "id": "Bnfx5wCYUUuv",
        "outputId": "c88b0ac7-9638-4554-c59d-ffd63bdc3453"
      },
      "execution_count": null,
      "outputs": [
        {
          "output_type": "execute_result",
          "data": {
            "text/plain": [
              "array([[-1.14141601, -1.15421683, -1.13407868, -1.14301794, -1.19822472,\n",
              "        -1.4269415 ],\n",
              "       [-1.15306861, -1.16771288, -1.15167814, -1.16341347, -1.21554112,\n",
              "        -1.42747359],\n",
              "       [-1.15306861, -1.15325283, -1.13505642, -1.14787402, -1.20234791,\n",
              "        -1.40331687],\n",
              "       [-1.1317055 , -1.1445768 , -1.11941246, -1.13136335, -1.18832991,\n",
              "        -1.47855388],\n",
              "       [-1.1239371 , -1.11662069, -1.10572399, -1.10514052, -1.16606621,\n",
              "        -1.43598697],\n",
              "       [-1.11519765, -1.13011674, -1.11061273, -1.11970876, -1.17843501,\n",
              "        -1.21836366],\n",
              "       [-1.12879235, -1.14361279, -1.12527895, -1.13816186, -1.19410192,\n",
              "        -1.4614207 ],\n",
              "       [-1.12879235, -1.13397276, -1.11159048, -1.12359362, -1.18173312,\n",
              "        -1.43694473],\n",
              "       [-1.11713975, -1.12722473, -1.10865723, -1.12650727, -1.18420682,\n",
              "        -1.43332654],\n",
              "       [-1.11519765, -1.12336872, -1.101813  , -1.11291025, -1.172663  ,\n",
              "        -1.4324752 ]])"
            ]
          },
          "metadata": {},
          "execution_count": 63
        }
      ]
    },
    {
      "cell_type": "code",
      "source": [
        "#Splitting Data into test, validation, train\n",
        "r=int(len(dataset)*train_ratio)\n",
        "s=int(len(dataset)*val_train)\n",
        "X_train=dataset[:r]\n",
        "X_val=dataset[r:s]\n",
        "X_test=dataset[s:]\n",
        "y_train=label[:r]\n",
        "y_val=label[r:s]\n",
        "y_test=label[s:]"
      ],
      "metadata": {
        "id": "axKz7y2FzT1A"
      },
      "execution_count": null,
      "outputs": []
    },
    {
      "cell_type": "code",
      "source": [
        "#Model\n",
        "model = keras.models.Sequential()\n",
        "model.add(layers.Conv1D(32,1,padding='same',activation='tanh',input_shape=(10,6)))\n",
        "model.add(layers.MaxPool1D(pool_size=1,padding='same'))\n",
        "model.add(layers.LSTM(64,activation='tanh',))\n",
        "model.add(layers.Dense(1))"
      ],
      "metadata": {
        "id": "65GES-FJVEt8"
      },
      "execution_count": null,
      "outputs": []
    },
    {
      "cell_type": "code",
      "source": [
        "model.compile(loss='mean_absolute_error',optimizer=keras.optimizers.Adam(learning_rate=0.001))"
      ],
      "metadata": {
        "id": "igNdP39BYAqb"
      },
      "execution_count": null,
      "outputs": []
    },
    {
      "cell_type": "code",
      "source": [
        "model.summary()\n"
      ],
      "metadata": {
        "colab": {
          "base_uri": "https://localhost:8080/"
        },
        "id": "VdNugKxpvf6q",
        "outputId": "60717bba-55f4-4e75-d099-ef68e6d6dcb2"
      },
      "execution_count": null,
      "outputs": [
        {
          "output_type": "stream",
          "name": "stdout",
          "text": [
            "Model: \"sequential_4\"\n",
            "_________________________________________________________________\n",
            " Layer (type)                Output Shape              Param #   \n",
            "=================================================================\n",
            " conv1d_4 (Conv1D)           (None, 10, 32)            224       \n",
            "                                                                 \n",
            " max_pooling1d_4 (MaxPooling  (None, 10, 32)           0         \n",
            " 1D)                                                             \n",
            "                                                                 \n",
            " lstm_4 (LSTM)               (None, 64)                24832     \n",
            "                                                                 \n",
            " dense_4 (Dense)             (None, 1)                 65        \n",
            "                                                                 \n",
            "=================================================================\n",
            "Total params: 25,121\n",
            "Trainable params: 25,121\n",
            "Non-trainable params: 0\n",
            "_________________________________________________________________\n"
          ]
        }
      ]
    },
    {
      "cell_type": "code",
      "source": [
        "print(\"Training data: \" + str(len(y_train)))\n",
        "print(\"Test data: \" + str(len(y_test)))"
      ],
      "metadata": {
        "colab": {
          "base_uri": "https://localhost:8080/"
        },
        "id": "QW94wU_iamJZ",
        "outputId": "92b35f8b-6412-4e98-df51-39d04f6a0fee"
      },
      "execution_count": null,
      "outputs": [
        {
          "output_type": "stream",
          "name": "stdout",
          "text": [
            "Training data: 3414\n",
            "Test data: 427\n"
          ]
        }
      ]
    },
    {
      "cell_type": "code",
      "source": [
        "#Training\n",
        "model.fit(X_train,y_train,validation_data=(X_val,y_val),epochs=100,batch_size=64)"
      ],
      "metadata": {
        "id": "SXefYvZIyRA6",
        "colab": {
          "base_uri": "https://localhost:8080/"
        },
        "outputId": "aa8ac80c-46fa-4e05-9906-c2b52786f89f"
      },
      "execution_count": null,
      "outputs": [
        {
          "output_type": "stream",
          "name": "stdout",
          "text": [
            "Epoch 1/100\n",
            "54/54 [==============================] - 3s 21ms/step - loss: 0.1888 - val_loss: 0.1395\n",
            "Epoch 2/100\n",
            "54/54 [==============================] - 1s 12ms/step - loss: 0.0837 - val_loss: 0.1133\n",
            "Epoch 3/100\n",
            "54/54 [==============================] - 1s 12ms/step - loss: 0.0764 - val_loss: 0.1077\n",
            "Epoch 4/100\n",
            "54/54 [==============================] - 1s 12ms/step - loss: 0.0724 - val_loss: 0.0811\n",
            "Epoch 5/100\n",
            "54/54 [==============================] - 1s 12ms/step - loss: 0.0694 - val_loss: 0.0759\n",
            "Epoch 6/100\n",
            "54/54 [==============================] - 1s 12ms/step - loss: 0.0685 - val_loss: 0.1273\n",
            "Epoch 7/100\n",
            "54/54 [==============================] - 1s 12ms/step - loss: 0.0711 - val_loss: 0.0718\n",
            "Epoch 8/100\n",
            "54/54 [==============================] - 1s 12ms/step - loss: 0.0677 - val_loss: 0.0656\n",
            "Epoch 9/100\n",
            "54/54 [==============================] - 1s 12ms/step - loss: 0.0649 - val_loss: 0.0561\n",
            "Epoch 10/100\n",
            "54/54 [==============================] - 1s 12ms/step - loss: 0.0676 - val_loss: 0.0766\n",
            "Epoch 11/100\n",
            "54/54 [==============================] - 1s 12ms/step - loss: 0.0659 - val_loss: 0.0592\n",
            "Epoch 12/100\n",
            "54/54 [==============================] - 1s 12ms/step - loss: 0.0639 - val_loss: 0.0649\n",
            "Epoch 13/100\n",
            "54/54 [==============================] - 1s 12ms/step - loss: 0.0626 - val_loss: 0.0539\n",
            "Epoch 14/100\n",
            "54/54 [==============================] - 1s 12ms/step - loss: 0.0664 - val_loss: 0.0552\n",
            "Epoch 15/100\n",
            "54/54 [==============================] - 1s 11ms/step - loss: 0.0647 - val_loss: 0.0614\n",
            "Epoch 16/100\n",
            "54/54 [==============================] - 1s 12ms/step - loss: 0.0628 - val_loss: 0.0485\n",
            "Epoch 17/100\n",
            "54/54 [==============================] - 1s 11ms/step - loss: 0.0616 - val_loss: 0.0636\n",
            "Epoch 18/100\n",
            "54/54 [==============================] - 1s 12ms/step - loss: 0.0671 - val_loss: 0.0584\n",
            "Epoch 19/100\n",
            "54/54 [==============================] - 1s 12ms/step - loss: 0.0628 - val_loss: 0.0616\n",
            "Epoch 20/100\n",
            "54/54 [==============================] - 1s 11ms/step - loss: 0.0631 - val_loss: 0.0534\n",
            "Epoch 21/100\n",
            "54/54 [==============================] - 1s 12ms/step - loss: 0.0605 - val_loss: 0.0539\n",
            "Epoch 22/100\n",
            "54/54 [==============================] - 1s 12ms/step - loss: 0.0616 - val_loss: 0.0687\n",
            "Epoch 23/100\n",
            "54/54 [==============================] - 1s 12ms/step - loss: 0.0608 - val_loss: 0.0464\n",
            "Epoch 24/100\n",
            "54/54 [==============================] - 1s 12ms/step - loss: 0.0593 - val_loss: 0.0545\n",
            "Epoch 25/100\n",
            "54/54 [==============================] - 1s 11ms/step - loss: 0.0596 - val_loss: 0.0539\n",
            "Epoch 26/100\n",
            "54/54 [==============================] - 1s 12ms/step - loss: 0.0591 - val_loss: 0.0514\n",
            "Epoch 27/100\n",
            "54/54 [==============================] - 1s 12ms/step - loss: 0.0594 - val_loss: 0.0757\n",
            "Epoch 28/100\n",
            "54/54 [==============================] - 1s 12ms/step - loss: 0.0591 - val_loss: 0.0646\n",
            "Epoch 29/100\n",
            "54/54 [==============================] - 1s 12ms/step - loss: 0.0590 - val_loss: 0.0529\n",
            "Epoch 30/100\n",
            "54/54 [==============================] - 1s 12ms/step - loss: 0.0583 - val_loss: 0.0496\n",
            "Epoch 31/100\n",
            "54/54 [==============================] - 1s 12ms/step - loss: 0.0596 - val_loss: 0.0526\n",
            "Epoch 32/100\n",
            "54/54 [==============================] - 1s 12ms/step - loss: 0.0599 - val_loss: 0.0480\n",
            "Epoch 33/100\n",
            "54/54 [==============================] - 1s 12ms/step - loss: 0.0591 - val_loss: 0.0460\n",
            "Epoch 34/100\n",
            "54/54 [==============================] - 1s 12ms/step - loss: 0.0594 - val_loss: 0.0517\n",
            "Epoch 35/100\n",
            "54/54 [==============================] - 1s 12ms/step - loss: 0.0587 - val_loss: 0.0475\n",
            "Epoch 36/100\n",
            "54/54 [==============================] - 1s 12ms/step - loss: 0.0577 - val_loss: 0.0434\n",
            "Epoch 37/100\n",
            "54/54 [==============================] - 1s 12ms/step - loss: 0.0592 - val_loss: 0.0470\n",
            "Epoch 38/100\n",
            "54/54 [==============================] - 1s 12ms/step - loss: 0.0585 - val_loss: 0.0458\n",
            "Epoch 39/100\n",
            "54/54 [==============================] - 1s 12ms/step - loss: 0.0582 - val_loss: 0.0583\n",
            "Epoch 40/100\n",
            "54/54 [==============================] - 1s 12ms/step - loss: 0.0615 - val_loss: 0.0457\n",
            "Epoch 41/100\n",
            "54/54 [==============================] - 1s 12ms/step - loss: 0.0584 - val_loss: 0.0444\n",
            "Epoch 42/100\n",
            "54/54 [==============================] - 1s 12ms/step - loss: 0.0584 - val_loss: 0.0517\n",
            "Epoch 43/100\n",
            "54/54 [==============================] - 1s 12ms/step - loss: 0.0586 - val_loss: 0.0468\n",
            "Epoch 44/100\n",
            "54/54 [==============================] - 1s 12ms/step - loss: 0.0573 - val_loss: 0.0413\n",
            "Epoch 45/100\n",
            "54/54 [==============================] - 1s 12ms/step - loss: 0.0577 - val_loss: 0.0538\n",
            "Epoch 46/100\n",
            "54/54 [==============================] - 1s 11ms/step - loss: 0.0587 - val_loss: 0.0449\n",
            "Epoch 47/100\n",
            "54/54 [==============================] - 1s 12ms/step - loss: 0.0570 - val_loss: 0.0529\n",
            "Epoch 48/100\n",
            "54/54 [==============================] - 1s 12ms/step - loss: 0.0568 - val_loss: 0.0452\n",
            "Epoch 49/100\n",
            "54/54 [==============================] - 1s 12ms/step - loss: 0.0575 - val_loss: 0.0427\n",
            "Epoch 50/100\n",
            "54/54 [==============================] - 1s 12ms/step - loss: 0.0570 - val_loss: 0.0444\n",
            "Epoch 51/100\n",
            "54/54 [==============================] - 1s 12ms/step - loss: 0.0568 - val_loss: 0.0477\n",
            "Epoch 52/100\n",
            "54/54 [==============================] - 1s 12ms/step - loss: 0.0580 - val_loss: 0.0560\n",
            "Epoch 53/100\n",
            "54/54 [==============================] - 1s 12ms/step - loss: 0.0569 - val_loss: 0.0526\n",
            "Epoch 54/100\n",
            "54/54 [==============================] - 1s 12ms/step - loss: 0.0573 - val_loss: 0.0519\n",
            "Epoch 55/100\n",
            "54/54 [==============================] - 1s 12ms/step - loss: 0.0577 - val_loss: 0.0563\n",
            "Epoch 56/100\n",
            "54/54 [==============================] - 1s 12ms/step - loss: 0.0563 - val_loss: 0.0510\n",
            "Epoch 57/100\n",
            "54/54 [==============================] - 1s 12ms/step - loss: 0.0580 - val_loss: 0.0565\n",
            "Epoch 58/100\n",
            "54/54 [==============================] - 1s 12ms/step - loss: 0.0575 - val_loss: 0.0466\n",
            "Epoch 59/100\n",
            "54/54 [==============================] - 1s 12ms/step - loss: 0.0570 - val_loss: 0.0452\n",
            "Epoch 60/100\n",
            "54/54 [==============================] - 1s 12ms/step - loss: 0.0584 - val_loss: 0.0461\n",
            "Epoch 61/100\n",
            "54/54 [==============================] - 1s 12ms/step - loss: 0.0569 - val_loss: 0.0491\n",
            "Epoch 62/100\n",
            "54/54 [==============================] - 1s 12ms/step - loss: 0.0564 - val_loss: 0.0436\n",
            "Epoch 63/100\n",
            "54/54 [==============================] - 1s 12ms/step - loss: 0.0570 - val_loss: 0.0443\n",
            "Epoch 64/100\n",
            "54/54 [==============================] - 1s 12ms/step - loss: 0.0564 - val_loss: 0.0518\n",
            "Epoch 65/100\n",
            "54/54 [==============================] - 1s 12ms/step - loss: 0.0563 - val_loss: 0.0449\n",
            "Epoch 66/100\n",
            "54/54 [==============================] - 1s 12ms/step - loss: 0.0576 - val_loss: 0.0456\n",
            "Epoch 67/100\n",
            "54/54 [==============================] - 1s 12ms/step - loss: 0.0567 - val_loss: 0.0417\n",
            "Epoch 68/100\n",
            "54/54 [==============================] - 1s 12ms/step - loss: 0.0578 - val_loss: 0.0424\n",
            "Epoch 69/100\n",
            "54/54 [==============================] - 1s 12ms/step - loss: 0.0586 - val_loss: 0.0459\n",
            "Epoch 70/100\n",
            "54/54 [==============================] - 1s 12ms/step - loss: 0.0584 - val_loss: 0.0488\n",
            "Epoch 71/100\n",
            "54/54 [==============================] - 1s 12ms/step - loss: 0.0566 - val_loss: 0.0458\n",
            "Epoch 72/100\n",
            "54/54 [==============================] - 1s 12ms/step - loss: 0.0566 - val_loss: 0.0440\n",
            "Epoch 73/100\n",
            "54/54 [==============================] - 1s 17ms/step - loss: 0.0575 - val_loss: 0.0536\n",
            "Epoch 74/100\n",
            "54/54 [==============================] - 1s 19ms/step - loss: 0.0569 - val_loss: 0.0415\n",
            "Epoch 75/100\n",
            "54/54 [==============================] - 1s 16ms/step - loss: 0.0569 - val_loss: 0.0435\n",
            "Epoch 76/100\n",
            "54/54 [==============================] - 1s 12ms/step - loss: 0.0583 - val_loss: 0.0448\n",
            "Epoch 77/100\n",
            "54/54 [==============================] - 1s 12ms/step - loss: 0.0574 - val_loss: 0.0488\n",
            "Epoch 78/100\n",
            "54/54 [==============================] - 1s 12ms/step - loss: 0.0564 - val_loss: 0.0510\n",
            "Epoch 79/100\n",
            "54/54 [==============================] - 1s 12ms/step - loss: 0.0566 - val_loss: 0.0547\n",
            "Epoch 80/100\n",
            "54/54 [==============================] - 1s 12ms/step - loss: 0.0565 - val_loss: 0.0493\n",
            "Epoch 81/100\n",
            "54/54 [==============================] - 1s 12ms/step - loss: 0.0568 - val_loss: 0.0427\n",
            "Epoch 82/100\n",
            "54/54 [==============================] - 1s 12ms/step - loss: 0.0557 - val_loss: 0.0467\n",
            "Epoch 83/100\n",
            "54/54 [==============================] - 1s 12ms/step - loss: 0.0564 - val_loss: 0.0440\n",
            "Epoch 84/100\n",
            "54/54 [==============================] - 1s 12ms/step - loss: 0.0562 - val_loss: 0.0474\n",
            "Epoch 85/100\n",
            "54/54 [==============================] - 1s 12ms/step - loss: 0.0581 - val_loss: 0.0445\n",
            "Epoch 86/100\n",
            "54/54 [==============================] - 1s 12ms/step - loss: 0.0573 - val_loss: 0.0463\n",
            "Epoch 87/100\n",
            "54/54 [==============================] - 1s 15ms/step - loss: 0.0574 - val_loss: 0.0428\n",
            "Epoch 88/100\n",
            "54/54 [==============================] - 1s 16ms/step - loss: 0.0576 - val_loss: 0.0725\n",
            "Epoch 89/100\n",
            "54/54 [==============================] - 1s 15ms/step - loss: 0.0585 - val_loss: 0.0494\n",
            "Epoch 90/100\n",
            "54/54 [==============================] - 1s 12ms/step - loss: 0.0561 - val_loss: 0.0493\n",
            "Epoch 91/100\n",
            "54/54 [==============================] - 1s 21ms/step - loss: 0.0560 - val_loss: 0.0421\n",
            "Epoch 92/100\n",
            "54/54 [==============================] - 1s 21ms/step - loss: 0.0569 - val_loss: 0.0450\n",
            "Epoch 93/100\n",
            "54/54 [==============================] - 1s 16ms/step - loss: 0.0560 - val_loss: 0.0442\n",
            "Epoch 94/100\n",
            "54/54 [==============================] - 1s 18ms/step - loss: 0.0570 - val_loss: 0.0688\n",
            "Epoch 95/100\n",
            "54/54 [==============================] - 1s 12ms/step - loss: 0.0564 - val_loss: 0.0416\n",
            "Epoch 96/100\n",
            "54/54 [==============================] - 1s 12ms/step - loss: 0.0577 - val_loss: 0.0433\n",
            "Epoch 97/100\n",
            "54/54 [==============================] - 1s 12ms/step - loss: 0.0559 - val_loss: 0.0415\n",
            "Epoch 98/100\n",
            "54/54 [==============================] - 1s 11ms/step - loss: 0.0568 - val_loss: 0.0464\n",
            "Epoch 99/100\n",
            "54/54 [==============================] - 1s 12ms/step - loss: 0.0573 - val_loss: 0.0443\n",
            "Epoch 100/100\n",
            "54/54 [==============================] - 1s 12ms/step - loss: 0.0580 - val_loss: 0.0506\n"
          ]
        },
        {
          "output_type": "execute_result",
          "data": {
            "text/plain": [
              "<keras.callbacks.History at 0x7fdfc13add90>"
            ]
          },
          "metadata": {},
          "execution_count": 69
        }
      ]
    },
    {
      "cell_type": "code",
      "source": [
        "#Converting data back to Stock Price\n",
        "m=data['Open'].mean()\n",
        "s=data['Open'].std()\n",
        "y_pred = model.predict(X_test)\n",
        "y_pred = (y_pred * s) + m\n",
        "y_test = (y_test * s) + m\n"
      ],
      "metadata": {
        "id": "Urpmzft6MJOl"
      },
      "execution_count": null,
      "outputs": []
    },
    {
      "cell_type": "code",
      "source": [
        "#Plotting Result\n",
        "plt.plot([x for x in range(len(y_test))],y_test,color='red')\n",
        "plt.plot([x for x in range(len(y_test))],y_pred,color='blue')\n",
        "plt.xlabel('Data')\n",
        "plt.ylabel('Stock Prices')\n",
        "plt.title(\"CNN-LSTM\")\n",
        "plt.legend(['Real Price','Predicted Price'])\n",
        "plt.show()"
      ],
      "metadata": {
        "colab": {
          "base_uri": "https://localhost:8080/",
          "height": 295
        },
        "id": "2aWKcaDtOspa",
        "outputId": "7df9bc67-01cb-49cd-e2d9-965df75ead1d"
      },
      "execution_count": null,
      "outputs": [
        {
          "output_type": "display_data",
          "data": {
            "text/plain": [
              "<Figure size 432x288 with 1 Axes>"
            ],
            "image/png": "[encoded data removed]"
          },
          "metadata": {
            "needs_background": "light"
          }
        }
      ]
    },
    {
      "cell_type": "code",
      "source": [
        "score = model.evaluate(X_test, y_test)\n",
        "print('Test loss:', score)"
      ],
      "metadata": {
        "colab": {
          "base_uri": "https://localhost:8080/"
        },
        "id": "Pmd40L8lao5b",
        "outputId": "16ada52a-ba0e-4298-8c49-6e15ba923bb7"
      },
      "execution_count": null,
      "outputs": [
        {
          "output_type": "stream",
          "name": "stdout",
          "text": [
            "14/14 [==============================] - 0s 3ms/step - loss: 24.2066\n",
            "Test loss: 24.206640243530273\n"
          ]
        }
      ]
    },
    {
      "cell_type": "code",
      "source": [],
      "metadata": {
        "id": "ofWgZYpVap7x"
      },
      "execution_count": null,
      "outputs": []
    }
  ]
}